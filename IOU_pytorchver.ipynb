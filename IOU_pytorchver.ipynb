{
  "nbformat": 4,
  "nbformat_minor": 0,
  "metadata": {
    "colab": {
      "provenance": [],
      "gpuType": "T4",
      "authorship_tag": "ABX9TyMAV+4wfm5EaM6XjIrg+Bv3",
      "include_colab_link": true
    },
    "kernelspec": {
      "name": "python3",
      "display_name": "Python 3"
    },
    "language_info": {
      "name": "python"
    },
    "accelerator": "GPU"
  },
  "cells": [
    {
      "cell_type": "markdown",
      "metadata": {
        "id": "view-in-github",
        "colab_type": "text"
      },
      "source": [
        "<a href=\"https://colab.research.google.com/github/Jundo22l/Jundo22l/blob/main/IOU_pytorchver.ipynb\" target=\"_parent\"><img src=\"https://colab.research.google.com/assets/colab-badge.svg\" alt=\"Open In Colab\"/></a>"
      ]
    },
    {
      "cell_type": "code",
      "source": [
        "import torch\n",
        "import matplotlib.pyplot as plt\n",
        "import matplotlib.patches as patches\n",
        "\n",
        "def compute_iou(box1, box2):\n",
        "    \"\"\"\n",
        "    두 바운딩 박스 간의 Intersection over Union (IoU)을 계산합니다.\n",
        "\n",
        "    Parameters:\n",
        "    box1 (tensor): 첫 번째 바운딩 박스 [x1, y1, x2, y2]\n",
        "    box2 (tensor): 두 번째 바운딩 박스 [x1, y1, x2, y2]\n",
        "\n",
        "    Returns:\n",
        "    float: IoU 값\n",
        "    \"\"\"\n",
        "    # 두 박스의 Union 영역의 좌상단 좌표\n",
        "    x1 = torch.max(box1[0], box2[0])\n",
        "    y1 = torch.max(box1[1], box2[1])\n",
        "\n",
        "    # 두 박스의 Union 영역의 우하단 좌표\n",
        "    x2 = torch.min(box1[2], box2[2])\n",
        "    y2 = torch.min(box1[3], box2[3])\n",
        "\n",
        "    # Union 영역의 면적 계산 clamp 함수를 이용. 입력값과 설정한 최소,최댓값을 비교하여 결과를 산출한다.\n",
        "    inter_area = torch.clamp(x2 - x1, min=0) * torch.clamp(y2 - y1, min=0)\n",
        "\n",
        "    # 첫 번째 바운딩 박스의 면적 계산\n",
        "    box1_area = (box1[2] - box1[0]) * (box1[3] - box1[1])\n",
        "\n",
        "    # 두 번째 바운딩 박스의 면적 계산\n",
        "    box2_area = (box2[2] - box2[0]) * (box2[3] - box2[1])\n",
        "\n",
        "    # IoU 계산: 교차 영역의 면적을 합친 면적에서 교차 영역의 면적을 나눔\n",
        "    iou = inter_area / (box1_area + box2_area - inter_area)\n",
        "\n",
        "    # IoU와 교차 박스의 좌표를 반환\n",
        "    return iou, (x1, y1, x2, y2)"
      ],
      "metadata": {
        "id": "hvTPE6wKQnHy"
      },
      "execution_count": 9,
      "outputs": []
    },
    {
      "cell_type": "code",
      "source": [
        "def plot_boxes(box1, box2, inter_box, iou):\n",
        "    \"\"\"\n",
        "    바운딩 박스와 교차 영역을 시각화합니다.\n",
        "\n",
        "    Parameters:\n",
        "    box1 (tensor): 첫 번째 바운딩 박스 [x1, y1, x2, y2]\n",
        "    box2 (tensor): 두 번째 바운딩 박스 [x1, y1, x2, y2]\n",
        "    inter_box (tuple): 교차 영역의 좌상단 및 우하단 좌표 (x1, y1, x2, y2)\n",
        "    iou (float): IoU 값\n",
        "    \"\"\"\n",
        "    fig, ax = plt.subplots(1)  # 새로운 그림 및 축 생성\n",
        "\n",
        "    ax.set_facecolor((1, 1, 1))  # 배경색을 흰색으로 설정\n",
        "\n",
        "    # 첫 번째 바운딩 박스 시각화 (빨간색 테두리)\n",
        "    rect1 = patches.Rectangle((box1[0], box1[1]), box1[2]-box1[0], box1[3]-box1[1], linewidth=1, edgecolor='r', facecolor='none')\n",
        "    ax.add_patch(rect1)  # 그림에 첫 번째 바운딩 박스 추가\n",
        "\n",
        "    # 두 번째 바운딩 박스 시각화 (파란색 테두리)\n",
        "    rect2 = patches.Rectangle((box2[0], box2[1]), box2[2]-box2[0], box2[3]-box2[1], linewidth=1, edgecolor='b', facecolor='none')\n",
        "    ax.add_patch(rect2)  # 그림에 두 번째 바운딩 박스 추가\n",
        "\n",
        "    # 교차 영역 시각화 (초록색 점선 테두리)\n",
        "    if inter_box[2] > inter_box[0] and inter_box[3] > inter_box[1]:\n",
        "        inter_rect = patches.Rectangle((inter_box[0], inter_box[1]), inter_box[2]-inter_box[0], inter_box[3]-inter_box[1], linewidth=1, edgecolor='g', facecolor='none', linestyle='--')\n",
        "        ax.add_patch(inter_rect)  # 그림에 교차 영역 추가\n",
        "\n",
        "    # IoU 값을 텍스트로 표시\n",
        "    plt.text(0.5, 1.05, f'IoU: {iou:.4f}', horizontalalignment='center', verticalalignment='center', transform=ax.transAxes)\n",
        "\n",
        "    # x축과 y축의 범위 설정 (모든 박스가 포함되도록)\n",
        "    all_coords = torch.cat((box1, box2))\n",
        "    ax.set_xlim(all_coords.min().item() - 1, all_coords.max().item() + 1)\n",
        "    ax.set_ylim(all_coords.min().item() - 1, all_coords.max().item() + 1)\n",
        "\n",
        "    plt.gca().set_aspect('equal', adjustable='box')  # 축의 비율을 동일하게 설정\n",
        "    plt.show()  # 그림을 화면에 표시"
      ],
      "metadata": {
        "id": "V83NamvLWFYG"
      },
      "execution_count": 10,
      "outputs": []
    },
    {
      "cell_type": "code",
      "source": [
        "# 사용 예시:\n",
        "box1 = torch.tensor([0.0, 0.0, 3.5, 2.0])  # 첫 번째 바운딩 박스 좌표\n",
        "box2 = torch.tensor([1.0, 1.0, 3.0, 3.0])  # 두 번째 바운딩 박스 좌표\n",
        "iou, inter_box = compute_iou(box1, box2)  # IoU 및 교차 영역 계산\n",
        "print(f'IoU: {iou:.4f}')  # IoU 값 콘솔에 출력\n",
        "plot_boxes(box1, box2, inter_box, iou)  # 바운딩 박스와 교차 영역을 시각화"
      ],
      "metadata": {
        "colab": {
          "base_uri": "https://localhost:8080/",
          "height": 473
        },
        "id": "YWVuuWDpZp2M",
        "outputId": "15e33c1f-c860-487b-862a-c2423ca1aed1"
      },
      "execution_count": 14,
      "outputs": [
        {
          "output_type": "stream",
          "name": "stdout",
          "text": [
            "IoU: 0.2222\n"
          ]
        },
        {
          "output_type": "display_data",
          "data": {
            "text/plain": [
              "<Figure size 640x480 with 1 Axes>"
            ],
            "image/png": "[encoded data removed]"
          },
          "metadata": {}
        }
      ]
    }
  ]
}